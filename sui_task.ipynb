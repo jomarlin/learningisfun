{
  "nbformat": 4,
  "nbformat_minor": 0,
  "metadata": {
    "colab": {
      "name": "sui_task.ipynb",
      "version": "0.3.2",
      "provenance": [],
      "include_colab_link": true
    },
    "kernelspec": {
      "name": "python3",
      "display_name": "Python 3"
    }
  },
  "cells": [
    {
      "cell_type": "markdown",
      "metadata": {
        "id": "view-in-github",
        "colab_type": "text"
      },
      "source": [
        "[View in Colaboratory](https://colab.research.google.com/github/jomarlin/learningisfun/blob/master/sui_task.ipynb)"
      ]
    },
    {
      "metadata": {
        "id": "Kpflz25XE96k",
        "colab_type": "code",
        "colab": {}
      },
      "cell_type": "code",
      "source": [
        "!pip install vk_api\n",
        "import vk_api\n",
        "import pandas as pd\n",
        "import google.colab.files as files\n",
        "import re\n",
        "import numpy as np\n",
        "from Collections import Counter\n",
        "import pymorphy2\n"
      ],
      "execution_count": 0,
      "outputs": []
    },
    {
      "metadata": {
        "id": "AXcd6faDV7c3",
        "colab_type": "text"
      },
      "cell_type": "markdown",
      "source": [
        "[ТОКЕН](https://oauth.vk.com/authorize?client_id=5310660&display=page&redirect_uri=https://oauth.vk.com/blank.html&scope=friends,status,wall,groups,offline&response_type=token)"
      ]
    },
    {
      "metadata": {
        "id": "m3C6XUyeFK8_",
        "colab_type": "code",
        "colab": {}
      },
      "cell_type": "code",
      "source": [
        "TOKEN = \"\" #сюда вставлять полученный по ссылке выше токен VK \n",
        "vk_session = vk_api.VkApi(app_id=36136488, token=TOKEN) #id приложения, созданного преподавателем, необходимо для получения токена, без которого часть методов не будет работать\n",
        "vk = vk_session.get_api()"
      ],
      "execution_count": 0,
      "outputs": []
    },
    {
      "metadata": {
        "id": "wHiByjGP2bFr",
        "colab_type": "code",
        "colab": {}
      },
      "cell_type": "code",
      "source": [
        "offset=0\n",
        "while True:\n",
        "  followers = vk.groups.getMembers(group_id=XXX, fields=\"bdate\", count=1000, offset=offset) #выкачивает дату рождения всех юзеров в группе с id XXX по 1000 за раз (иначе api vk заблочит запрос)\n",
        "  all_followers = all_followers + followers['items']\n",
        "  offset = offset + 1000\n",
        "  if len(all_followers) == followers['count']:\n",
        "    break"
      ],
      "execution_count": 0,
      "outputs": []
    },
    {
      "metadata": {
        "id": "GdnkjkxzLbpk",
        "colab_type": "code",
        "colab": {}
      },
      "cell_type": "code",
      "source": [
        "table = pd.DataFrame( all_followers ) #делает массив пользователей датафреймом\n",
        "bday = table['bdate'][0]\n",
        "\n",
        "def age(bday):\n",
        "  if type(bday) == str and len(bday) > 7:\n",
        "    return 2018 - int(bday[-4:])\n",
        "  else:\n",
        "    return None #вычисляет возраст юзера на основе даты рождения\n",
        "  \n",
        "table['age'] = table['bdate'].apply(age) #теперь в таблице есть столбец с возрастом\n",
        "\n",
        "filtered_table = table[table['age'] < 95]\n",
        "filtered_table.hist() #смотрим гистограмму по возрасту подписчиков сообщества \n",
        "\n",
        "\n"
      ],
      "execution_count": 0,
      "outputs": []
    },
    {
      "metadata": {
        "id": "CgyMLomQL4Ks",
        "colab_type": "code",
        "colab": {}
      },
      "cell_type": "code",
      "source": [
        "#выкачиваем тексты постов про самоубийство со стены сообщества\n",
        "sui_text = []\n",
        "start = ''\n",
        "\n",
        "while True:\n",
        "  sui_text = vk.wall.search(owner_id = '-XXX', query=\"suicide самоубийство \", extended = 1, fields=\"bdate,sex,about,interests\", count=200, start_from=start) #собираем сами тексты и в отдельный массив информацию о юзерах\n",
        "  person1 = person1 + posts['items']\n",
        "  offset = offset + 100\n",
        "  if 'next_from' not in posts:\n",
        "    break\n",
        "  start = posts['next_from']"
      ],
      "execution_count": 0,
      "outputs": []
    },
    {
      "metadata": {
        "id": "z_U2xEAhQLwZ",
        "colab_type": "code",
        "colab": {}
      },
      "cell_type": "code",
      "source": [
        "sui_text = sui_text[]['text']\n",
        "\n",
        "import re\n",
        "\n",
        "def words(text):\n",
        "  text = text.lower()\n",
        "  text = text.replace('ё', 'е')\n",
        "  text = re.sub('[^а-я ]', '', text)\n",
        "  text = re.sub(' +', ' ', text)  \n",
        "  text = text.strip()\n",
        "  return text.split(' ')\n",
        "\n",
        "words(sui_text) #обрабатывает текст - приводит к lowercase, убирает лишние символы, сплитит по каждому слову\n"
      ],
      "execution_count": 0,
      "outputs": []
    },
    {
      "metadata": {
        "id": "Q614B6SQTyRi",
        "colab_type": "code",
        "colab": {}
      },
      "cell_type": "code",
      "source": [
        "stopwords = \"\"\"быть\n",
        "а\n",
        "вот\n",
        "вы\n",
        "да\n",
        "еще\n",
        "и\n",
        "как\n",
        "мы\n",
        "не\n",
        "нет\n",
        "он\n",
        "за\n",
        "о\n",
        "они\n",
        "от\n",
        "с\n",
        "сказать\n",
        "только\n",
        "у\n",
        "этот\n",
        "большой\n",
        "в\n",
        "все\n",
        "говорить\n",
        "для\n",
        "же\n",
        "из\n",
        "который\n",
        "на\n",
        "него\n",
        "них\n",
        "один\n",
        "оно\n",
        "ото\n",
        "свой\n",
        "та\n",
        "тот\n",
        "что\n",
        "я\n",
        "бы\n",
        "весь\n",
        "всей\n",
        "год\n",
        "до\n",
        "знать\n",
        "к\n",
        "мочь\n",
        "наш\n",
        "нее\n",
        "но\n",
        "она\n",
        "оный\n",
        "по\n",
        "себя\n",
        "такой\n",
        "ты\n",
        "это\"\"\"\n",
        "\n",
        "stopwords_list = stopwords.split(\"\\n\")\n",
        "stopwords_list #список стоп-слов, которые будут вырезаны из текстов, чтобы не мешать обработке. список был взят из примера на хабре"
      ],
      "execution_count": 0,
      "outputs": []
    },
    {
      "metadata": {
        "id": "zdfzLC-TWt0V",
        "colab_type": "code",
        "colab": {}
      },
      "cell_type": "code",
      "source": [
        "def clean_text(text):\n",
        "  words_list = words(text)\n",
        "  norm_list = []\n",
        "  for word in words_list:\n",
        "    morph_word = morph.parse(word)[0]\n",
        "    if morph_word.tag.POS not in ['NPRO', 'PREP', 'CONJ', 'PRCL']:\n",
        "      norm = morph_word.normal_form\n",
        "      if norm not in stopwords_list:\n",
        "        norm_list.append(norm)\n",
        "  return norm_list\n",
        "\n",
        "clean_text(sui_text) #текст очищается от стоп-слов, возвращается массив со словами, приведенными в начальную форму"
      ],
      "execution_count": 0,
      "outputs": []
    },
    {
      "metadata": {
        "id": "ZdgixsWARUPO",
        "colab_type": "code",
        "colab": {}
      },
      "cell_type": "code",
      "source": [
        "suicide_counter = Counter() #присваивает каунтер текстам про самоубийство\n",
        "\n",
        "for post in sui_text:\n",
        "  post_words = clean_text(post['text'])\n",
        "  suicide_counter.update(post_words)\n",
        "  \n",
        "\n"
      ],
      "execution_count": 0,
      "outputs": []
    },
    {
      "metadata": {
        "id": "Y1PJRXD2StK1",
        "colab_type": "code",
        "colab": {}
      },
      "cell_type": "code",
      "source": [
        "print(suicide_counter.most_common(10)) #выводит самые часто встречающиеся слова в текстах про самоубийство\n",
        "\n"
      ],
      "execution_count": 0,
      "outputs": []
    }
  ]
}